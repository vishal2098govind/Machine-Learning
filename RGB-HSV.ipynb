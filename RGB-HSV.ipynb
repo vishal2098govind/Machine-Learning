{
 "cells": [
  {
   "cell_type": "code",
   "execution_count": 2,
   "metadata": {},
   "outputs": [],
   "source": [
    "from PIL import Image\n",
    "import colorsys    \n",
    "\n",
    "def HSVColor(img):\n",
    "    if isinstance(img,Image.Image):\n",
    "        r,g,b = img.split()\n",
    "        Hdat = []\n",
    "        Sdat = []\n",
    "        Vdat = [] \n",
    "        for rd,gn,bl in zip(r.getdata(),g.getdata(),b.getdata()) :\n",
    "            h,s,v = colorsys.rgb_to_hsv(rd/255.,gn/255.,bl/255.)\n",
    "            Hdat.append(0)\n",
    "            Sdat.append(0)\n",
    "            Vdat.append(int(v*255.))\n",
    "        r.putdata(Hdat)\n",
    "        g.putdata(Sdat)\n",
    "        b.putdata(Vdat)\n",
    "        return Image.merge('RGB',(r,g,b))\n",
    "    else:\n",
    "        return None\n",
    "from PIL import Image\n",
    "import os\n",
    "import glob\n",
    "image_list = []\n",
    "path = 'C:\\\\Users\\Dell\\\\Downloads\\\\catsVsdogs\\\\DATASET\\\\train\\\\Newfolder\\\\'\n",
    "outpath = 'C:\\\\Users\\Dell\\\\Downloads\\\\catsVsdogs\\\\DATASET\\\\train\\\\h(0)s(0)v\\\\'\n",
    "for filename in glob.glob(\"C:\\\\Users\\Dell\\\\Downloads\\\\catsVsdogs\\\\DATASET\\\\train\\\\Newfolder\\\\*.jpg\"): #assuming gif\n",
    "    im=Image.open(filename)\n",
    "    src_fname, ext=os.path.splitext(filename)\n",
    "    image_list.append(im)\n",
    "    im2=HSVColor(im)\n",
    "    save_fname=os.path.join(outpath, os.path.basename(src_fname)+'.jpg')\n",
    "    im2.save(save_fname)\n"
   ]
  },
  {
   "cell_type": "code",
   "execution_count": null,
   "metadata": {},
   "outputs": [],
   "source": []
  },
  {
   "cell_type": "code",
   "execution_count": null,
   "metadata": {},
   "outputs": [],
   "source": []
  }
 ],
 "metadata": {
  "kernelspec": {
   "display_name": "Python 3",
   "language": "python",
   "name": "python3"
  },
  "language_info": {
   "codemirror_mode": {
    "name": "ipython",
    "version": 3
   },
   "file_extension": ".py",
   "mimetype": "text/x-python",
   "name": "python",
   "nbconvert_exporter": "python",
   "pygments_lexer": "ipython3",
   "version": "3.7.1"
  }
 },
 "nbformat": 4,
 "nbformat_minor": 2
}
